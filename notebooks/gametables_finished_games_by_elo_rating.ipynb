{
 "cells": [
  {
   "cell_type": "markdown",
   "metadata": {},
   "source": [
    "# Data frame info\n",
    "\n",
    " * **game**: Name of the game;\n",
    " * **table_link**: link to access the table;\n",
    " * **creation_time**: time that the table was created(not the time that the game started);\n",
    " * **is_elo_rating**: -1 if not option was not present(old tables), 0 if option was present but was set to false and 1 if was present and set to true;\n",
    " * **game_speed**: If present (this is in portuguese);\n",
    " * **game_status**: 'open': 0,'finished': 1,'abandonned': 2,'cancelled': 3"
   ]
  },
  {
   "cell_type": "code",
   "execution_count": 56,
   "metadata": {
    "collapsed": false
   },
   "outputs": [
    {
     "name": "stdout",
     "output_type": "stream",
     "text": [
      "Populating the interactive namespace from numpy and matplotlib\n"
     ]
    }
   ],
   "source": [
    "%pylab inline"
   ]
  },
  {
   "cell_type": "code",
   "execution_count": 57,
   "metadata": {
    "collapsed": false
   },
   "outputs": [],
   "source": [
    "import os\n",
    "from pandas import read_csv\n",
    "csv_files_location = \"../bgarena_gatherer/db_backup/\"\n",
    "game_tables_df = read_csv(os.path.join(csv_files_location, 'gametables.csv'))"
   ]
  },
  {
   "cell_type": "code",
   "execution_count": 58,
   "metadata": {
    "collapsed": false
   },
   "outputs": [],
   "source": [
    "game_tables_df = game_tables_df.set_index(\"id\")"
   ]
  },
  {
   "cell_type": "code",
   "execution_count": 59,
   "metadata": {
    "collapsed": false
   },
   "outputs": [],
   "source": [
    "# remove non existing tables\n",
    "non_error_game_table_df = game_tables_df[game_tables_df['game'] != \"ERROR\"]"
   ]
  },
  {
   "cell_type": "markdown",
   "metadata": {},
   "source": [
    "## considering only tables with elo option present"
   ]
  },
  {
   "cell_type": "code",
   "execution_count": 60,
   "metadata": {
    "collapsed": true
   },
   "outputs": [],
   "source": [
    "game_tables_with_elo_rating_present = non_error_game_table_df[non_error_game_table_df['is_elo_rating'] > -1]"
   ]
  },
  {
   "cell_type": "code",
   "execution_count": 61,
   "metadata": {
    "collapsed": false
   },
   "outputs": [
    {
     "data": {
      "text/html": [
       "<div>\n",
       "<table border=\"1\" class=\"dataframe\">\n",
       "  <thead>\n",
       "    <tr style=\"text-align: right;\">\n",
       "      <th></th>\n",
       "      <th>game</th>\n",
       "      <th>table_link</th>\n",
       "      <th>creation_time</th>\n",
       "      <th>estimated_duration</th>\n",
       "      <th>is_elo_rating</th>\n",
       "      <th>game_speed</th>\n",
       "      <th>game_status</th>\n",
       "    </tr>\n",
       "    <tr>\n",
       "      <th>id</th>\n",
       "      <th></th>\n",
       "      <th></th>\n",
       "      <th></th>\n",
       "      <th></th>\n",
       "      <th></th>\n",
       "      <th></th>\n",
       "      <th></th>\n",
       "    </tr>\n",
       "  </thead>\n",
       "  <tbody>\n",
       "    <tr>\n",
       "      <th>277304</th>\n",
       "      <td>Stone Age</td>\n",
       "      <td>https://pt.boardgamearena.com/#!table?table=23...</td>\n",
       "      <td>17/08/2016</td>\n",
       "      <td>27 mn</td>\n",
       "      <td>1.0</td>\n",
       "      <td>Em tempo real : Velocidade normal</td>\n",
       "      <td>1.0</td>\n",
       "    </tr>\n",
       "    <tr>\n",
       "      <th>277305</th>\n",
       "      <td>Targi</td>\n",
       "      <td>https://pt.boardgamearena.com/#!table?table=23...</td>\n",
       "      <td>17/08/2016</td>\n",
       "      <td>32 mn</td>\n",
       "      <td>1.0</td>\n",
       "      <td>Em tempo real : Velocidade normal</td>\n",
       "      <td>1.0</td>\n",
       "    </tr>\n",
       "    <tr>\n",
       "      <th>277306</th>\n",
       "      <td>Seasons</td>\n",
       "      <td>https://pt.boardgamearena.com/#!table?table=23...</td>\n",
       "      <td>17/08/2016</td>\n",
       "      <td>19 mn</td>\n",
       "      <td>1.0</td>\n",
       "      <td>Em tempo real : Velocidade rápida</td>\n",
       "      <td>1.0</td>\n",
       "    </tr>\n",
       "    <tr>\n",
       "      <th>277307</th>\n",
       "      <td>Race for the Galaxy</td>\n",
       "      <td>https://pt.boardgamearena.com/#!table?table=23...</td>\n",
       "      <td>17/08/2016</td>\n",
       "      <td>7 mn</td>\n",
       "      <td>1.0</td>\n",
       "      <td>Em tempo real : Velocidade normal</td>\n",
       "      <td>1.0</td>\n",
       "    </tr>\n",
       "    <tr>\n",
       "      <th>277308</th>\n",
       "      <td>Koryŏ</td>\n",
       "      <td>https://pt.boardgamearena.com/#!table?table=23...</td>\n",
       "      <td>17/08/2016</td>\n",
       "      <td>5 mn</td>\n",
       "      <td>1.0</td>\n",
       "      <td>Em tempo real : Velocidade rápida</td>\n",
       "      <td>1.0</td>\n",
       "    </tr>\n",
       "  </tbody>\n",
       "</table>\n",
       "</div>"
      ],
      "text/plain": [
       "                       game  \\\n",
       "id                            \n",
       "277304            Stone Age   \n",
       "277305                Targi   \n",
       "277306              Seasons   \n",
       "277307  Race for the Galaxy   \n",
       "277308                Koryŏ   \n",
       "\n",
       "                                               table_link creation_time  \\\n",
       "id                                                                        \n",
       "277304  https://pt.boardgamearena.com/#!table?table=23...    17/08/2016   \n",
       "277305  https://pt.boardgamearena.com/#!table?table=23...    17/08/2016   \n",
       "277306  https://pt.boardgamearena.com/#!table?table=23...    17/08/2016   \n",
       "277307  https://pt.boardgamearena.com/#!table?table=23...    17/08/2016   \n",
       "277308  https://pt.boardgamearena.com/#!table?table=23...    17/08/2016   \n",
       "\n",
       "       estimated_duration  is_elo_rating                         game_speed  \\\n",
       "id                                                                            \n",
       "277304              27 mn            1.0  Em tempo real : Velocidade normal   \n",
       "277305              32 mn            1.0  Em tempo real : Velocidade normal   \n",
       "277306              19 mn            1.0  Em tempo real : Velocidade rápida   \n",
       "277307               7 mn            1.0  Em tempo real : Velocidade normal   \n",
       "277308               5 mn            1.0  Em tempo real : Velocidade rápida   \n",
       "\n",
       "        game_status  \n",
       "id                   \n",
       "277304          1.0  \n",
       "277305          1.0  \n",
       "277306          1.0  \n",
       "277307          1.0  \n",
       "277308          1.0  "
      ]
     },
     "execution_count": 61,
     "metadata": {},
     "output_type": "execute_result"
    }
   ],
   "source": [
    "game_tables_with_elo_rating_present.head()"
   ]
  },
  {
   "cell_type": "code",
   "execution_count": 62,
   "metadata": {
    "collapsed": true
   },
   "outputs": [],
   "source": [
    "grouped_by_elo = game_tables_with_elo_rating_present.groupby('is_elo_rating')"
   ]
  },
  {
   "cell_type": "markdown",
   "metadata": {},
   "source": [
    "## Elo Rating On (Green) vs Elo Rating Off (Blue)"
   ]
  },
  {
   "cell_type": "code",
   "execution_count": 63,
   "metadata": {
    "collapsed": false
   },
   "outputs": [
    {
     "data": {
      "text/plain": [
       "<matplotlib.axes._subplots.AxesSubplot at 0x7f6328e5b3d0>"
      ]
     },
     "execution_count": 63,
     "metadata": {},
     "output_type": "execute_result"
    },
    {
     "data": {
      "image/png": "[encoded data removed]",
      "text/plain": [
       "<matplotlib.figure.Figure at 0x7f632c7ee410>"
      ]
     },
     "metadata": {},
     "output_type": "display_data"
    }
   ],
   "source": [
    "grouped_by_elo.get_group(1)['game_status'].plot.hist(bins=20, color='Green')\n",
    "grouped_by_elo.get_group(0)['game_status'].plot.hist(bins=20, color='Blue')"
   ]
  },
  {
   "cell_type": "code",
   "execution_count": 64,
   "metadata": {
    "collapsed": false
   },
   "outputs": [],
   "source": [
    "elo_rated_finished = grouped_by_elo.get_group(1)[grouped_by_elo.get_group(1)['game_status']==1]\n",
    "non_elo_rated_finished = grouped_by_elo.get_group(0)[grouped_by_elo.get_group(0)['game_status']==1]"
   ]
  },
  {
   "cell_type": "markdown",
   "metadata": {},
   "source": [
    "## % of Finished games by Elo Rate Option (On/Off)"
   ]
  },
  {
   "cell_type": "markdown",
   "metadata": {},
   "source": [
    "### Finished Games With Elo Rate On"
   ]
  },
  {
   "cell_type": "code",
   "execution_count": 65,
   "metadata": {
    "collapsed": false
   },
   "outputs": [
    {
     "name": "stdout",
     "output_type": "stream",
     "text": [
      "58.9439494543 %\n"
     ]
    }
   ],
   "source": [
    "perc = elo_rated_finished.size/float(grouped_by_elo.get_group(1).size) * 100\n",
    "print \"{} %\".format(perc)"
   ]
  },
  {
   "cell_type": "markdown",
   "metadata": {},
   "source": [
    "### Finished Games With Elo Rate Off"
   ]
  },
  {
   "cell_type": "code",
   "execution_count": 66,
   "metadata": {
    "collapsed": false
   },
   "outputs": [
    {
     "name": "stdout",
     "output_type": "stream",
     "text": [
      "68.8002961751 %\n"
     ]
    }
   ],
   "source": [
    "perc = non_elo_rated_finished.size/float(grouped_by_elo.get_group(0).size) * 100\n",
    "print \"{} %\".format(perc)"
   ]
  },
  {
   "cell_type": "code",
   "execution_count": null,
   "metadata": {
    "collapsed": true
   },
   "outputs": [],
   "source": []
  }
 ],
 "metadata": {
  "kernelspec": {
   "display_name": "Python 2",
   "language": "python",
   "name": "python2"
  },
  "language_info": {
   "codemirror_mode": {
    "name": "ipython",
    "version": 2
   },
   "file_extension": ".py",
   "mimetype": "text/x-python",
   "name": "python",
   "nbconvert_exporter": "python",
   "pygments_lexer": "ipython2",
   "version": "2.7.6"
  }
 },
 "nbformat": 4,
 "nbformat_minor": 1
}
